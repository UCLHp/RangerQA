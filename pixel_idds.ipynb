{
 "cells": [
  {
   "cell_type": "markdown",
   "metadata": {},
   "source": [
    "# This notebook intended to be used in Google Colab!  \n",
    "(https://colab.research.google.com/github/UCLHp/RangerQA/blob/logos)"
   ]
  },
  {
   "cell_type": "markdown",
   "metadata": {},
   "source": [
    "Run the cell below and upload the Ranger data when prompted"
   ]
  },
  {
   "cell_type": "code",
   "execution_count": null,
   "metadata": {},
   "outputs": [],
   "source": [
    "# install Ranger processing code\n",
    "! git clone https://github.com/UCLHp/RangerQA/blob/logos/\n",
    "\n",
    "# upload data\n",
    "import os\n",
    "\n",
    "os.chdir('/content/RangerQA')\n",
    "\n",
    "from google.colab import files\n",
    "\n",
    "lo_dir = '/content/RangerQA/Low_Energies'\n",
    "hi_dir = '/content/RangerQA/High_Energies'\n",
    "\n",
    "os.makedirs(lo_dir, exist_ok=True)\n",
    "os.chdir(lo_dir)\n",
    "print('##### Load Low Energy Ranger Files ####')\n",
    "uploadedLo = files.upload()\n",
    "os.makedirs(hi_dir, exist_ok=True)\n",
    "os.chdir(hi_dir)\n",
    "print('##### Load High Energy Ranger Files ####')\n",
    "uploadedHi = files.upload()\n",
    "os.chdir('/content/RangerQA')"
   ]
  },
  {
   "cell_type": "markdown",
   "metadata": {},
   "source": [
    "Process the Ranger data by running the cell below"
   ]
  },
  {
   "cell_type": "code",
   "execution_count": null,
   "metadata": {},
   "outputs": [],
   "source": [
    "from ranger_data import * # import the ranger class\n",
    "\n",
    "r_lo = ranger()\n",
    "r_lo.load_data(lo_dir)\n",
    "\n",
    "r_hi = ranger()\n",
    "r_hi.load_data(hi_dir, RS='RS 5cm', buildup='PTFE 13.27')\n"
   ]
  },
  {
   "cell_type": "markdown",
   "metadata": {},
   "source": [
    "Make a note of the Low Energy D80 ranges in pixels by running the cell below"
   ]
  },
  {
   "cell_type": "code",
   "execution_count": null,
   "metadata": {},
   "outputs": [],
   "source": [
    "# load ranger data with predfined range shifter and buildup WETs\n",
    "print('##### Low Energy D80s (px) #####')\n",
    "for d80 in r_lo.metrics['D80']:\n",
    "    print(d80)"
   ]
  },
  {
   "cell_type": "markdown",
   "metadata": {},
   "source": [
    "Make a note of the Low Energy D80 ranges in mm by running the cell below"
   ]
  },
  {
   "cell_type": "code",
   "execution_count": null,
   "metadata": {},
   "outputs": [],
   "source": [
    "# load ranger data with predfined range shifter and buildup WETs\n",
    "print('##### Low Energy D80s (mm) #####')\n",
    "for d80 in r_lo.metrics_mm['D80']:\n",
    "    print(d80)"
   ]
  },
  {
   "cell_type": "markdown",
   "metadata": {},
   "source": [
    "Make a note of the High Energy D80 ranges in pixels by running the cell below"
   ]
  },
  {
   "cell_type": "code",
   "execution_count": null,
   "metadata": {},
   "outputs": [],
   "source": [
    "# load ranger data with predfined range shifter and buildup WETs\n",
    "print('##### High Energy D80s (px) #####')\n",
    "for d80 in r_hi.metrics['D80']:\n",
    "    print(d80)"
   ]
  },
  {
   "cell_type": "markdown",
   "metadata": {},
   "source": [
    "Make a note of the High Energy D80 ranges in mm by running the cell below"
   ]
  },
  {
   "cell_type": "code",
   "execution_count": null,
   "metadata": {},
   "outputs": [],
   "source": [
    "# load ranger data with predfined range shifter and buildup WETs\n",
    "print('##### High Energy D80s (mm) #####')\n",
    "for d80 in r_hi.metrics_mm['D80']:\n",
    "    print(d80)"
   ]
  },
  {
   "cell_type": "markdown",
   "metadata": {},
   "source": [
    "Finally, record the calibration factors used to convert pixels values to mm"
   ]
  },
  {
   "cell_type": "code",
   "execution_count": null,
   "metadata": {},
   "outputs": [],
   "source": [
    "for cal_factor in r_hi.calibration['simple']:\n",
    "    print(cal_factor)"
   ]
  }
 ],
 "metadata": {
  "kernelspec": {
   "display_name": "Python 3.8.11 ('py38')",
   "language": "python",
   "name": "python3"
  },
  "language_info": {
   "codemirror_mode": {
    "name": "ipython",
    "version": 3
   },
   "file_extension": ".py",
   "mimetype": "text/x-python",
   "name": "python",
   "nbconvert_exporter": "python",
   "pygments_lexer": "ipython3",
   "version": "3.8.11"
  },
  "orig_nbformat": 4,
  "vscode": {
   "interpreter": {
    "hash": "89f1d545202c9ccfcb8fefefcdc470dfb4ce3f7863758da4b82ad3554070838a"
   }
  }
 },
 "nbformat": 4,
 "nbformat_minor": 2
}
